{
  "nbformat": 4,
  "nbformat_minor": 0,
  "metadata": {
    "colab": {
      "provenance": []
    },
    "kernelspec": {
      "name": "python3",
      "display_name": "Python 3"
    },
    "language_info": {
      "name": "python"
    }
  },
  "cells": [
    {
      "cell_type": "code",
      "execution_count": 12,
      "metadata": {
        "id": "ei11eVozJc4p"
      },
      "outputs": [],
      "source": [
        "!pip install -q pydantic openai rich"
      ]
    },
    {
      "cell_type": "code",
      "source": [
        "# import all the required libraries\n",
        "import getpass\n",
        "from pydantic import BaseModel\n",
        "from openai import OpenAI\n",
        "from rich.console import Console\n",
        "from rich.panel import Panel\n",
        "from rich.markdown import Markdown\n",
        "import time"
      ],
      "metadata": {
        "id": "13S_ixqRJrkX"
      },
      "execution_count": 13,
      "outputs": []
    },
    {
      "cell_type": "code",
      "source": [
        "# --- Configuration ---\n",
        "API_KEY = None\n",
        "MODEL = \"gemini-2.0-flash\"\n",
        "SYSTEM_PROMPT = \"\"\"You are an intelligent agent capable of understanding and responding to user queries.\n",
        "                You can access tools to perform actions and provide information.\n",
        "                If you need to use a tool, format your response as: {{tool:tool_name, input:tool_input}}.\n",
        "                If you have a final answer, provide it directly.\n",
        "                \"\"\""
      ],
      "metadata": {
        "id": "BGftShwrJ15E"
      },
      "execution_count": 14,
      "outputs": []
    },
    {
      "cell_type": "code",
      "source": [
        "# --- Tools (Example) ---\n",
        "def search_web(query: str) -> str:\n",
        "    \"\"\"Simulated web search tool.\"\"\"\n",
        "    print(f\"Searching the web for: {query}\")\n",
        "    time.sleep(1)  # Simulate delay\n",
        "    return f\"Web search results for '{query}': ... (simulated results)\"\n",
        "\n",
        "def calculate(expression: str) -> str:\n",
        "    \"\"\"Simulated calculator tool.\"\"\"\n",
        "    print(f\"Calculating: {expression}\")\n",
        "    time.sleep(1) # simulate delay\n",
        "    try:\n",
        "        result = eval(expression) # be very careful with eval in production\n",
        "        return str(result)\n",
        "    except:\n",
        "        return \"Invalid Calculation\"\n",
        "\n",
        "TOOLS = {\n",
        "    \"search_web\": search_web,\n",
        "    \"calculate\": calculate,\n",
        "}"
      ],
      "metadata": {
        "id": "9TH5FLssKGTB"
      },
      "execution_count": 15,
      "outputs": []
    },
    {
      "cell_type": "code",
      "source": [
        "# --- Pydantic Models ---\n",
        "class UserMessage(BaseModel):\n",
        "    role: str\n",
        "    content: str\n",
        "\n",
        "class ChatRequest(BaseModel):\n",
        "    model: str\n",
        "    messages: list[UserMessage]\n",
        "    n: int = 1\n",
        "\n",
        "class ChatResponse(BaseModel):\n",
        "    response: str"
      ],
      "metadata": {
        "id": "vVrIFFZfKOGV"
      },
      "execution_count": 16,
      "outputs": []
    },
    {
      "cell_type": "code",
      "source": [
        "# --- OpenAI Client ---\n",
        "def initialize_client():\n",
        "    global API_KEY, client\n",
        "    try:\n",
        "        API_KEY = getpass.getpass(prompt=\"Enter your API key: \")\n",
        "        print(\"API Key added.\")\n",
        "        client = OpenAI(\n",
        "            api_key=API_KEY,\n",
        "            base_url=\"https://generativelanguage.googleapis.com/v1beta/openai/\"\n",
        "        )\n",
        "    except Exception as e:\n",
        "        print(f\"Error initializing client: {e}\")\n",
        "        exit(1)"
      ],
      "metadata": {
        "id": "YMOYoEFmKXve"
      },
      "execution_count": 9,
      "outputs": []
    },
    {
      "cell_type": "code",
      "source": [
        "# --- Agent Functionality ---\n",
        "def get_ai_response(messages: list[UserMessage]) -> ChatResponse:\n",
        "    \"\"\"Get AI response.\"\"\"\n",
        "    chat_request = ChatRequest(\n",
        "        model=MODEL,\n",
        "        messages=messages,\n",
        "    )\n",
        "    response = client.chat.completions.create(\n",
        "        model=chat_request.model,\n",
        "        n=chat_request.n,\n",
        "        messages=[message.model_dump() for message in chat_request.messages]\n",
        "    )\n",
        "    return ChatResponse(response=response.choices[0].message.content)"
      ],
      "metadata": {
        "id": "AOw53S4KKcqT"
      },
      "execution_count": 10,
      "outputs": []
    },
    {
      "cell_type": "code",
      "source": [
        "# --- Main Function For Running the Agent ---\n",
        "def run_agent():\n",
        "    \"\"\"Main agent loop.\"\"\"\n",
        "    global client\n",
        "    initialize_client()\n",
        "    console = Console()\n",
        "    messages = [UserMessage(role=\"system\", content=SYSTEM_PROMPT)]\n",
        "\n",
        "    while True:\n",
        "        user_input = input(\"User: \")\n",
        "        if user_input.lower() == \"quit\":\n",
        "            print(\"Goodbye!\")\n",
        "            break\n",
        "\n",
        "        messages.append(UserMessage(role=\"user\", content=user_input))\n",
        "        ai_response = get_ai_response(messages)\n",
        "        ai_response_text = ai_response.response\n",
        "\n",
        "        console.print(Panel(user_input, title=\"[bold blue]User Question[/bold blue]\", border_style=\"bright_blue\"))\n",
        "        console.print(Panel(Markdown(ai_response_text), title=\"[bold green]AI Response[/bold green]\", border_style=\"bright_green\"))\n",
        "\n",
        "        # Tool Parsing and Execution\n",
        "        if \"{{tool:\" in ai_response_text:\n",
        "            try:\n",
        "                start = ai_response_text.find(\"{{tool:\") + 7\n",
        "                end = ai_response_text.find(\"}}\", start)\n",
        "                tool_call = ai_response_text[start:end]\n",
        "                tool_name, tool_input = tool_call.split(\", input:\")\n",
        "                tool_result = TOOLS[tool_name](tool_input)\n",
        "\n",
        "                # add the assistants response to the messages\n",
        "                messages.append(UserMessage(role=\"assistant\", content=ai_response_text))\n",
        "\n",
        "                # add the tool result to the messages\n",
        "                messages.append(UserMessage(role=\"tool\", content=f\"tool_result: {tool_result}\"))\n",
        "\n",
        "                # get the response with the tool results integrated.\n",
        "                ai_response = get_ai_response(messages)\n",
        "\n",
        "                console.print(Panel(Markdown(ai_response.response), title=\"[bold yellow]Tool Integrated Response[/bold yellow]\", border_style=\"bright_yellow\"))\n",
        "            except Exception as e:\n",
        "                console.print(f\"Error executing tool: {e}\")\n",
        "\n",
        "        else:\n",
        "             # add the assistants response to the messages\n",
        "            messages.append(UserMessage(role=\"assistant\", content=ai_response_text))\n",
        "            pass"
      ],
      "metadata": {
        "id": "cCX0JNfBKgsq"
      },
      "execution_count": 17,
      "outputs": []
    },
    {
      "cell_type": "code",
      "source": [
        "# test the agent\n",
        "run_agent()"
      ],
      "metadata": {
        "colab": {
          "base_uri": "https://localhost:8080/",
          "height": 516
        },
        "id": "3hoVE0teLQMd",
        "outputId": "3075d91e-d734-41d9-ec3e-9764d9935aa8"
      },
      "execution_count": 18,
      "outputs": [
        {
          "name": "stdout",
          "output_type": "stream",
          "text": [
            "Enter your API key: ··········\n",
            "API Key added.\n",
            "User: what is love?\n"
          ]
        },
        {
          "output_type": "display_data",
          "data": {
            "text/plain": [
              "\u001b[94m╭─\u001b[0m\u001b[94m────────────────────────────────────────────────\u001b[0m\u001b[94m \u001b[0m\u001b[1;34mUser Question\u001b[0m\u001b[94m \u001b[0m\u001b[94m────────────────────────────────────────────────\u001b[0m\u001b[94m─╮\u001b[0m\n",
              "\u001b[94m│\u001b[0m what is love?                                                                                                   \u001b[94m│\u001b[0m\n",
              "\u001b[94m╰─────────────────────────────────────────────────────────────────────────────────────────────────────────────────╯\u001b[0m\n"
            ],
            "text/html": [
              "<pre style=\"white-space:pre;overflow-x:auto;line-height:normal;font-family:Menlo,'DejaVu Sans Mono',consolas,'Courier New',monospace\"><span style=\"color: #0000ff; text-decoration-color: #0000ff\">╭───────────────────────────────────────────────── </span><span style=\"color: #000080; text-decoration-color: #000080; font-weight: bold\">User Question</span><span style=\"color: #0000ff; text-decoration-color: #0000ff\"> ─────────────────────────────────────────────────╮</span>\n",
              "<span style=\"color: #0000ff; text-decoration-color: #0000ff\">│</span> what is love?                                                                                                   <span style=\"color: #0000ff; text-decoration-color: #0000ff\">│</span>\n",
              "<span style=\"color: #0000ff; text-decoration-color: #0000ff\">╰─────────────────────────────────────────────────────────────────────────────────────────────────────────────────╯</span>\n",
              "</pre>\n"
            ]
          },
          "metadata": {}
        },
        {
          "output_type": "display_data",
          "data": {
            "text/plain": [
              "\u001b[92m╭─\u001b[0m\u001b[92m─────────────────────────────────────────────────\u001b[0m\u001b[92m \u001b[0m\u001b[1;32mAI Response\u001b[0m\u001b[92m \u001b[0m\u001b[92m─────────────────────────────────────────────────\u001b[0m\u001b[92m─╮\u001b[0m\n",
              "\u001b[92m│\u001b[0m Love is a complex emotion with a wide range of meanings and interpretations, often varying from person to       \u001b[92m│\u001b[0m\n",
              "\u001b[92m│\u001b[0m person and culture to culture. It can encompass feelings of affection, care, warmth, and attachment. Here are   \u001b[92m│\u001b[0m\n",
              "\u001b[92m│\u001b[0m some common aspects of love:                                                                                    \u001b[92m│\u001b[0m\n",
              "\u001b[92m│\u001b[0m                                                                                                                 \u001b[92m│\u001b[0m\n",
              "\u001b[92m│\u001b[0m \u001b[1;33m • \u001b[0m\u001b[1mAffection:\u001b[0m A feeling of warmth and fondness towards someone or something.                                    \u001b[92m│\u001b[0m\n",
              "\u001b[92m│\u001b[0m \u001b[1;33m • \u001b[0m\u001b[1mIntimacy:\u001b[0m A sense of closeness, understanding, and connection with another person.                           \u001b[92m│\u001b[0m\n",
              "\u001b[92m│\u001b[0m \u001b[1;33m • \u001b[0m\u001b[1mPassion:\u001b[0m Strong feelings of excitement, desire, and attraction.                                              \u001b[92m│\u001b[0m\n",
              "\u001b[92m│\u001b[0m \u001b[1;33m • \u001b[0m\u001b[1mCommitment:\u001b[0m A conscious decision to stay with someone through good times and bad.                            \u001b[92m│\u001b[0m\n",
              "\u001b[92m│\u001b[0m \u001b[1;33m • \u001b[0m\u001b[1mCompassion:\u001b[0m Empathy and concern for the well-being of others.                                                \u001b[92m│\u001b[0m\n",
              "\u001b[92m│\u001b[0m \u001b[1;33m • \u001b[0m\u001b[1mSelflessness:\u001b[0m Prioritizing the needs and happiness of others.                                                \u001b[92m│\u001b[0m\n",
              "\u001b[92m│\u001b[0m                                                                                                                 \u001b[92m│\u001b[0m\n",
              "\u001b[92m│\u001b[0m Love can also manifest in different forms, such as:                                                             \u001b[92m│\u001b[0m\n",
              "\u001b[92m│\u001b[0m                                                                                                                 \u001b[92m│\u001b[0m\n",
              "\u001b[92m│\u001b[0m \u001b[1;33m • \u001b[0m\u001b[1mRomantic Love:\u001b[0m Characterized by passion, intimacy, and commitment.                                           \u001b[92m│\u001b[0m\n",
              "\u001b[92m│\u001b[0m \u001b[1;33m • \u001b[0m\u001b[1mFamilial Love:\u001b[0m The bond between family members, often based on shared history and unconditional acceptance.  \u001b[92m│\u001b[0m\n",
              "\u001b[92m│\u001b[0m \u001b[1;33m • \u001b[0m\u001b[1mPlatonic Love:\u001b[0m A deep friendship without romantic or sexual feelings.                                        \u001b[92m│\u001b[0m\n",
              "\u001b[92m│\u001b[0m \u001b[1;33m • \u001b[0m\u001b[1mSelf-Love:\u001b[0m Acceptance, respect, and appreciation for oneself.                                                \u001b[92m│\u001b[0m\n",
              "\u001b[92m│\u001b[0m \u001b[1;33m • \u001b[0m\u001b[1mAgape:\u001b[0m Unconditional, selfless love for all beings.                                                          \u001b[92m│\u001b[0m\n",
              "\u001b[92m│\u001b[0m                                                                                                                 \u001b[92m│\u001b[0m\n",
              "\u001b[92m│\u001b[0m Ultimately, love is a powerful and multifaceted emotion that enriches our lives and relationships.              \u001b[92m│\u001b[0m\n",
              "\u001b[92m╰─────────────────────────────────────────────────────────────────────────────────────────────────────────────────╯\u001b[0m\n"
            ],
            "text/html": [
              "<pre style=\"white-space:pre;overflow-x:auto;line-height:normal;font-family:Menlo,'DejaVu Sans Mono',consolas,'Courier New',monospace\"><span style=\"color: #00ff00; text-decoration-color: #00ff00\">╭────────────────────────────────────────────────── </span><span style=\"color: #008000; text-decoration-color: #008000; font-weight: bold\">AI Response</span><span style=\"color: #00ff00; text-decoration-color: #00ff00\"> ──────────────────────────────────────────────────╮</span>\n",
              "<span style=\"color: #00ff00; text-decoration-color: #00ff00\">│</span> Love is a complex emotion with a wide range of meanings and interpretations, often varying from person to       <span style=\"color: #00ff00; text-decoration-color: #00ff00\">│</span>\n",
              "<span style=\"color: #00ff00; text-decoration-color: #00ff00\">│</span> person and culture to culture. It can encompass feelings of affection, care, warmth, and attachment. Here are   <span style=\"color: #00ff00; text-decoration-color: #00ff00\">│</span>\n",
              "<span style=\"color: #00ff00; text-decoration-color: #00ff00\">│</span> some common aspects of love:                                                                                    <span style=\"color: #00ff00; text-decoration-color: #00ff00\">│</span>\n",
              "<span style=\"color: #00ff00; text-decoration-color: #00ff00\">│</span>                                                                                                                 <span style=\"color: #00ff00; text-decoration-color: #00ff00\">│</span>\n",
              "<span style=\"color: #00ff00; text-decoration-color: #00ff00\">│</span> <span style=\"color: #808000; text-decoration-color: #808000; font-weight: bold\"> • </span><span style=\"font-weight: bold\">Affection:</span> A feeling of warmth and fondness towards someone or something.                                    <span style=\"color: #00ff00; text-decoration-color: #00ff00\">│</span>\n",
              "<span style=\"color: #00ff00; text-decoration-color: #00ff00\">│</span> <span style=\"color: #808000; text-decoration-color: #808000; font-weight: bold\"> • </span><span style=\"font-weight: bold\">Intimacy:</span> A sense of closeness, understanding, and connection with another person.                           <span style=\"color: #00ff00; text-decoration-color: #00ff00\">│</span>\n",
              "<span style=\"color: #00ff00; text-decoration-color: #00ff00\">│</span> <span style=\"color: #808000; text-decoration-color: #808000; font-weight: bold\"> • </span><span style=\"font-weight: bold\">Passion:</span> Strong feelings of excitement, desire, and attraction.                                              <span style=\"color: #00ff00; text-decoration-color: #00ff00\">│</span>\n",
              "<span style=\"color: #00ff00; text-decoration-color: #00ff00\">│</span> <span style=\"color: #808000; text-decoration-color: #808000; font-weight: bold\"> • </span><span style=\"font-weight: bold\">Commitment:</span> A conscious decision to stay with someone through good times and bad.                            <span style=\"color: #00ff00; text-decoration-color: #00ff00\">│</span>\n",
              "<span style=\"color: #00ff00; text-decoration-color: #00ff00\">│</span> <span style=\"color: #808000; text-decoration-color: #808000; font-weight: bold\"> • </span><span style=\"font-weight: bold\">Compassion:</span> Empathy and concern for the well-being of others.                                                <span style=\"color: #00ff00; text-decoration-color: #00ff00\">│</span>\n",
              "<span style=\"color: #00ff00; text-decoration-color: #00ff00\">│</span> <span style=\"color: #808000; text-decoration-color: #808000; font-weight: bold\"> • </span><span style=\"font-weight: bold\">Selflessness:</span> Prioritizing the needs and happiness of others.                                                <span style=\"color: #00ff00; text-decoration-color: #00ff00\">│</span>\n",
              "<span style=\"color: #00ff00; text-decoration-color: #00ff00\">│</span>                                                                                                                 <span style=\"color: #00ff00; text-decoration-color: #00ff00\">│</span>\n",
              "<span style=\"color: #00ff00; text-decoration-color: #00ff00\">│</span> Love can also manifest in different forms, such as:                                                             <span style=\"color: #00ff00; text-decoration-color: #00ff00\">│</span>\n",
              "<span style=\"color: #00ff00; text-decoration-color: #00ff00\">│</span>                                                                                                                 <span style=\"color: #00ff00; text-decoration-color: #00ff00\">│</span>\n",
              "<span style=\"color: #00ff00; text-decoration-color: #00ff00\">│</span> <span style=\"color: #808000; text-decoration-color: #808000; font-weight: bold\"> • </span><span style=\"font-weight: bold\">Romantic Love:</span> Characterized by passion, intimacy, and commitment.                                           <span style=\"color: #00ff00; text-decoration-color: #00ff00\">│</span>\n",
              "<span style=\"color: #00ff00; text-decoration-color: #00ff00\">│</span> <span style=\"color: #808000; text-decoration-color: #808000; font-weight: bold\"> • </span><span style=\"font-weight: bold\">Familial Love:</span> The bond between family members, often based on shared history and unconditional acceptance.  <span style=\"color: #00ff00; text-decoration-color: #00ff00\">│</span>\n",
              "<span style=\"color: #00ff00; text-decoration-color: #00ff00\">│</span> <span style=\"color: #808000; text-decoration-color: #808000; font-weight: bold\"> • </span><span style=\"font-weight: bold\">Platonic Love:</span> A deep friendship without romantic or sexual feelings.                                        <span style=\"color: #00ff00; text-decoration-color: #00ff00\">│</span>\n",
              "<span style=\"color: #00ff00; text-decoration-color: #00ff00\">│</span> <span style=\"color: #808000; text-decoration-color: #808000; font-weight: bold\"> • </span><span style=\"font-weight: bold\">Self-Love:</span> Acceptance, respect, and appreciation for oneself.                                                <span style=\"color: #00ff00; text-decoration-color: #00ff00\">│</span>\n",
              "<span style=\"color: #00ff00; text-decoration-color: #00ff00\">│</span> <span style=\"color: #808000; text-decoration-color: #808000; font-weight: bold\"> • </span><span style=\"font-weight: bold\">Agape:</span> Unconditional, selfless love for all beings.                                                          <span style=\"color: #00ff00; text-decoration-color: #00ff00\">│</span>\n",
              "<span style=\"color: #00ff00; text-decoration-color: #00ff00\">│</span>                                                                                                                 <span style=\"color: #00ff00; text-decoration-color: #00ff00\">│</span>\n",
              "<span style=\"color: #00ff00; text-decoration-color: #00ff00\">│</span> Ultimately, love is a powerful and multifaceted emotion that enriches our lives and relationships.              <span style=\"color: #00ff00; text-decoration-color: #00ff00\">│</span>\n",
              "<span style=\"color: #00ff00; text-decoration-color: #00ff00\">╰─────────────────────────────────────────────────────────────────────────────────────────────────────────────────╯</span>\n",
              "</pre>\n"
            ]
          },
          "metadata": {}
        },
        {
          "output_type": "stream",
          "name": "stdout",
          "text": [
            "User: quit\n",
            "Goodbye!\n"
          ]
        }
      ]
    },
    {
      "cell_type": "code",
      "source": [],
      "metadata": {
        "id": "1QPfhG4-Lchx"
      },
      "execution_count": null,
      "outputs": []
    },
    {
      "cell_type": "markdown",
      "source": [],
      "metadata": {
        "id": "Gq80upDMOS3r"
      }
    }
  ]
}